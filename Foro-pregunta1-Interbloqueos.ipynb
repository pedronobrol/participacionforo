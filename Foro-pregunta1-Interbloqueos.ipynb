{
 "cells": [
  {
   "cell_type": "markdown",
   "metadata": {},
   "source": [
    "## Sea un sistema con 3 procesos y 4 recursos (A,B,C y D). Cada proceso utiliza tres de estos recursos. El primero A, B y C en ese orden. El segundo B, C y D en ese orden. El tercero utliza A, B y D. Analiza cuales de los posibles órdenes de solicitud del tercero pueden generar interbloqueos.\n"
   ]
  },
  {
   "cell_type": "markdown",
   "metadata": {},
   "source": [
    "En este notebook trataremos de resolver el problema de forma razonada.\n",
    "En primer lugar, hemos de calcular las permutaciones de ABD para obtener todos los posibles órdenes de solicitud del tercer proceso.\n",
    "\n",
    "### Autor: Pedro Henrique Nobre Oliveira - USC"
   ]
  },
  {
   "cell_type": "code",
   "execution_count": 10,
   "metadata": {},
   "outputs": [
    {
     "name": "stdout",
     "output_type": "stream",
     "text": [
      "Permutaciones: [('A', 'B', 'D'), ('A', 'D', 'B'), ('B', 'A', 'D'), ('B', 'D', 'A'), ('D', 'A', 'B'), ('D', 'B', 'A')]\n"
     ]
    }
   ],
   "source": [
    "from itertools import permutations #Esta librería nos permite obtener todas las permutaciones de una \n",
    "                                   # de caracteres\n",
    "\n",
    "perms = list(permutations('ABD')) #Nos devuelve un irarator por lo que\n",
    "                                 #lo casteamos a una lista para visualizarlo directamente.  \n",
    "print(\"Permutaciones: {}\".format(perms)) "
   ]
  },
  {
   "attachments": {
    "image.png": {
     "image/png": "[encoded data removed]"
    }
   },
   "cell_type": "markdown",
   "metadata": {},
   "source": [
    "Ahora tenemos que averiguar cuales de estos órdenes pueden originar interbloqueos. Para ello, en primer lugar, hemos de entender lo que es un interbloqueo. Grosso modo, un interbloqueo se produce cuando un proceso bloqueado espera la ocurrencia de un evento para desbloquearse, sin embargo, el sistema no incluye la posibilidad de señalar dicha ocurrencia.\n",
    "\n",
    "Holt (1972) utilizó grafos dirigidos para representar situaciones de interbloqueo. Estos grafos tienen dos tipos de nodos : procesos, que se representan con círculos, y recursos, representados por cuadrados. Si in proceso está utilizando un recurso, previamente solicitado y concedido, se traza un arco desde el nodo del recurso (cuadrado) hasta el proceso (círculo). En la figura 2, el recurso R está en ese momento asignado al proceso A. En b), el proceso B está solicitando el recurso s. Por último en c) se representa un situación de interbloqueo : el proceso C está a la espera del recurso T, que está asignado al proceso D. El proceso D no ha dejado T, porque está esperando a que quede libre el recurso U, que, a su vez, está siendo utilizado por C. Ambos esperarán indefinidamente.\n",
    "\n",
    "![image.png](attachment:image.png)\n",
    "\n",
    "Fuente: http://lsi.vc.ehu.es/pablogn/docencia/manuales/SO/TemasSOuJaen/INTERBLOQUEOS/1y2DefinicionesPreviasyCasosPosibles.htm"
   ]
  },
  {
   "cell_type": "markdown",
   "metadata": {},
   "source": [
    "Sería, tal vez, interesante comparar esta situación con el problema de los filósofos comelones propuesto por Dijstra en 1965. Si intentamos resolver el problema con un programa que espere hasta que el tenedor derecho esté disponible para cogerlo, todos los filósofos podrían iniciar el algoritmo de forma simultánea, tomando sus tenedores izquierdos a la vez y dando lugar a un situación de inanción total, un interbloqueo, ya que cada uno esperaría una respuesta que nunca llegaría. "
   ]
  },
  {
   "cell_type": "markdown",
   "metadata": {},
   "source": [
    "### Dicho esto y cerrando el paréntesis, pasemos a la solución del problema para el que trateremos de utilzar un algortimo que nos lo indique cuáles permutaciones darían lugar a un interbloqueo.\n",
    "\n",
    "## El algoritmo del banquero. \n",
    "\n",
    "#### Ideado por Dijkstra en 1965, es una extensión del algoritmo de detección de interbloqueos.\n",
    "Pasos que sigue:\n",
    "\n",
    "1. Buscar un proceso cuya suma recAsig + recDisp >= recMax\n",
    "2. Suponemos que se asignan dichos recursos y el proceso termina su ejecución. \n",
    "   Sumamos sus recursos al vector recDisp y añadimos el proceso a la lista de finalizados.\n",
    "3. Repetir primer paso hasta terminar todos los procesos (siendo un estado estable)\n",
    "   o bien hasta el punto en el que no sea posible ninguna asignación de recursos,\n",
    "   existiendo pues interbloqueo.\n",
    "\n",
    "Fuente: https://1984.lsi.us.es/wiki-ssoo/index.php/Algoritmo_para_averiguar_interbloqueo\n",
    "   \n",
    "Explicación: se trata de verificar la existencia de un estado seguro, esto es, comprobar si existe una secuencia de asignaciones y liberaciones de recursos que permita a todos los procesos alcanzar en algún momento sus necesidades máximas de recursos. Volviendo al grafo del punto anterior, esto esquivale a comprobar si se forma un grafo cerrado (como en la opción c de la figura 5.2). Si no hay liberariones suficientes el proceso se quedará esperando indefinidamente ya pide un recurso que nunca será liberado (no quedarían liberaciones). \n",
    "\n",
    "\n",
    "### El algoritmo de detección de interbloqueos:\n",
    "Fuente: Sistemas opertaivos modernos tanembaum. \n",
    "\n",
    "- Es un algortimo basado en matrices.\n",
    "\n",
    "Estrucuras de datos necesarias:\n",
    "\n",
    "    -Vector de recursos existentes(E). \n",
    "    -Vector de recursos disponibles (A).\n",
    "    -Matriz de asignaciones actuales (C)\n",
    "    -La matriz de peticiones(R)\n",
    "\n",
    "Tanembaum aclara: La i-ésima fila de C nos indica cuántas instancias de cada clase de recurso contiene Pi en un momento dado. Así Cij es el número de instancias del recurso j que están contenidas por el proceso i. De manera similar, Rij es el número de instancias del recurso j que desea Pi. \n",
    "\n",
    "### Por tanto, al principio, se dice que cada proceso está desmarcado. A medida que el algoritmo progrese se marcarán los procesos, indicando que pueden completarse y, por ende, no están en interbloqueo. Cuando el algoritmo termine, se sabe que cualquier proceso desmarcado está en interbloqueo. \n",
    "\n",
    "1. Buscar un proceso desmarcado, Pi, para el que la i-ésima fila de R sea menor o igual que A.\n",
    "2. Si se encuentra dicho proceso, agregar la i-ésima fila de C a A, marcar el proceso y regresar al paso 1.\n",
    "3. Si no existe dicho proceso, el algoritmo termina.\n",
    "\n",
    "Curiosidad: el algoritmo recibe el nombre de banquero porque su funcionamiento es parecido a la gestión que hacen los bancos con las cuentas de crédito."
   ]
  },
  {
   "cell_type": "markdown",
   "metadata": {},
   "source": [
    "# Una posible solución para el problema propuesto"
   ]
  },
  {
   "cell_type": "code",
   "execution_count": 82,
   "metadata": {},
   "outputs": [
    {
     "data": {
      "text/plain": [
       "[['A', 'B', 'D'],\n",
       " ['A', 'D', 'B'],\n",
       " ['B', 'A', 'D'],\n",
       " ['B', 'D', 'A'],\n",
       " ['D', 'A', 'B'],\n",
       " ['D', 'B', 'A']]"
      ]
     },
     "execution_count": 82,
     "metadata": {},
     "output_type": "execute_result"
    }
   ],
   "source": [
    "Uno = ['A','B','C']\n",
    "Dos = ['B', 'C', 'D']\n",
    "Tres = [list(tupla) for tupla in perms] #Pasamos todas la tuplas a listas por preferencia personal\n",
    "                                    #No me gusta trabajar con tuplas.\n",
    "Tres"
   ]
  },
  {
   "cell_type": "code",
   "execution_count": 83,
   "metadata": {},
   "outputs": [],
   "source": [
    "#En el siguiente código implementaré una posible solución para el problema. Todo el razonamiento se encuentra\n",
    "#matizado en comentario de Sorraylla Ramos Gonzaga. Partiendo de ese razonamiento y con \n",
    "#cierta inspiración de los algoritmos vistos en clase he desarrollado el siguiente código:\n",
    "\n",
    "NR = 4 #Número recursos\n",
    "NP = 3 #Número procesos\n",
    "\n",
    "def verificar_inter(Tres):\n",
    "    Uno = ['A','B','C']\n",
    "    Dos = ['B', 'C', 'D']\n",
    "    input = [Uno, Dos, Tres]\n",
    "\n",
    "    asignados = [['nada' for _ in range(NR)] for _ in range(NP)] #Matriz que marca los recursos asignados, siendo cada\n",
    "                                                              #fila un proceso con sus NR recursos posibles\n",
    "                                                              #False si Asiganados y True si está disponible\n",
    "    necesitados = [[0 for _ in range(NR)] for _ in range(NP)] #Análogo pero en vez de valores booleanos, \n",
    "                                                              #aquí mantemos la cuenta de cuanta de los procesos que \n",
    "                                                              #requieren cada recurso\n",
    "\n",
    "    #El primer paso será obtener dos matrices: recursos asignados y necesitados (cada fila representa un proceso)\n",
    "\n",
    "    for i in range(NP): #Iteramos sobre los procesos\n",
    "        for j in range(3): #Iteramos sobre las solicitudes de cada proceso - Son tres\n",
    "            asignado = False\n",
    "            for k in asignados:\n",
    "                if (input[j][i] in k): #Verificamos si el recurso ya ha sido asignado anteriormente\n",
    "                    asignado = True\n",
    "            if asignado: #Verificamos si el recurso ya ha sido asignado anteriormente\n",
    "                necesitados[j][i] = input[j][i] \n",
    "            else:\n",
    "                asignados[j][i] = input[j][i] #Cambiamos el 'nada' por la letra - que representa el recurso\n",
    "\n",
    "\n",
    "    #El segundo paso va a ser encontrar algún ciclo cerrado: \n",
    "\n",
    "    contador = 0\n",
    "\n",
    "    inseguro = [0,0,0]\n",
    "    for id,p in enumerate(necesitados): #procesos que necesitan un recurso\n",
    "        for i in p:\n",
    "            for j in asignados:\n",
    "                if i in j:\n",
    "                    inseguro[id] +=1\n",
    "\n",
    "    for id,p in enumerate(asignados): #procesos tienen el recurso\n",
    "        for i in p:\n",
    "            for j in necesitados:\n",
    "                if i in j:\n",
    "                    if inseguro[id] >= 1:\n",
    "                        contador += 1\n",
    "\n",
    "    print(\"Necesitados: \", necesitados)\n",
    "    print(\"Asignados: \", asignados)\n",
    "    return contador\n",
    "\n"
   ]
  },
  {
   "cell_type": "code",
   "execution_count": 87,
   "metadata": {},
   "outputs": [
    {
     "name": "stdout",
     "output_type": "stream",
     "text": [
      "Necesitados:  [[0, 'B', 'C', 0], [0, 0, 0, 0], ['A', 'B', 'D', 0]]\n",
      "Asignados:  [['A', 'nada', 'nada', 'nada'], ['B', 'C', 'D', 'nada'], ['nada', 'nada', 'nada', 'nada']]\n",
      "No interbloqueo\n",
      "Necesitados:  [[0, 'B', 'C', 0], [0, 0, 'D', 0], ['A', 0, 'B', 0]]\n",
      "Asignados:  [['A', 'nada', 'nada', 'nada'], ['B', 'C', 'nada', 'nada'], ['nada', 'D', 'nada', 'nada']]\n",
      "Interbloqueo\n",
      "Necesitados:  [[0, 'B', 'C', 0], [0, 0, 0, 0], ['B', 'A', 'D', 0]]\n",
      "Asignados:  [['A', 'nada', 'nada', 'nada'], ['B', 'C', 'D', 'nada'], ['nada', 'nada', 'nada', 'nada']]\n",
      "No interbloqueo\n",
      "Necesitados:  [[0, 'B', 'C', 0], [0, 0, 'D', 0], ['B', 0, 'A', 0]]\n",
      "Asignados:  [['A', 'nada', 'nada', 'nada'], ['B', 'C', 'nada', 'nada'], ['nada', 'D', 'nada', 'nada']]\n",
      "Interbloqueo\n",
      "Necesitados:  [[0, 'B', 'C', 0], [0, 0, 'D', 0], [0, 'A', 'B', 0]]\n",
      "Asignados:  [['A', 'nada', 'nada', 'nada'], ['B', 'C', 'nada', 'nada'], ['D', 'nada', 'nada', 'nada']]\n",
      "Interbloqueo\n",
      "Necesitados:  [[0, 'B', 'C', 0], [0, 0, 'D', 0], [0, 'B', 'A', 0]]\n",
      "Asignados:  [['A', 'nada', 'nada', 'nada'], ['B', 'C', 'nada', 'nada'], ['D', 'nada', 'nada', 'nada']]\n",
      "Interbloqueo\n"
     ]
    }
   ],
   "source": [
    "for orden in Tres:\n",
    "    if verificar_inter(orden) > 1: #Mayor que uno ya que un proceso puede esperar por el recurso que tiene otro (se bloquea) \n",
    "                                   #si ese otro proceso no depende de un recurso del primero. \n",
    "        print(\"Interbloqueo\")\n",
    "    else:\n",
    "        print(\"No interbloqueo\")"
   ]
  },
  {
   "cell_type": "code",
   "execution_count": null,
   "metadata": {},
   "outputs": [],
   "source": []
  }
 ],
 "metadata": {
  "kernelspec": {
   "display_name": "Python 3",
   "language": "python",
   "name": "python3"
  },
  "language_info": {
   "codemirror_mode": {
    "name": "ipython",
    "version": 3
   },
   "file_extension": ".py",
   "mimetype": "text/x-python",
   "name": "python",
   "nbconvert_exporter": "python",
   "pygments_lexer": "ipython3",
   "version": "3.8.0"
  }
 },
 "nbformat": 4,
 "nbformat_minor": 2
}
